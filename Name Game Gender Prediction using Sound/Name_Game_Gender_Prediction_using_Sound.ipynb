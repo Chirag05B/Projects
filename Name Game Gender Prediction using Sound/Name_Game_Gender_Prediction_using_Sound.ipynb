{
  "cells": [
    {
      "metadata": {
        "dc": {
          "key": "3"
        },
        "deletable": false,
        "editable": false,
        "run_control": {
          "frozen": true
        },
        "tags": [
          "context"
        ],
        "id": "4dmtqq-L2VJ3"
      },
      "cell_type": "markdown",
      "source": [
        "## Sound it out!\n"
      ]
    },
    {
      "metadata": {
        "dc": {
          "key": "3"
        },
        "tags": [
          "sample_code"
        ],
        "trusted": true,
        "colab": {
          "base_uri": "https://localhost:8080/",
          "height": 246
        },
        "id": "e_wfWfOi2VKN",
        "outputId": "3e742a95-29e2-4e2f-9668-0803e4e15ee9"
      },
      "cell_type": "code",
      "source": [
        "# Importing the fuzzy package\n",
        "!pip install fuzzy\n",
        "import fuzzy\n",
        "\n",
        "# Exploring the output of fuzzy.nysiis\n",
        "fuzzy.nysiis('card')\n",
        "\n",
        "# Testing equivalence of similar sounding words\n",
        "fuzzy.nysiis('curd')"
      ],
      "execution_count": 2,
      "outputs": [
        {
          "output_type": "stream",
          "name": "stdout",
          "text": [
            "Looking in indexes: https://pypi.org/simple, https://us-python.pkg.dev/colab-wheels/public/simple/\n",
            "Collecting fuzzy\n",
            "  Downloading Fuzzy-1.2.2.tar.gz (14 kB)\n",
            "  Preparing metadata (setup.py) ... \u001b[?25l\u001b[?25hdone\n",
            "Building wheels for collected packages: fuzzy\n",
            "  Building wheel for fuzzy (setup.py) ... \u001b[?25l\u001b[?25hdone\n",
            "  Created wheel for fuzzy: filename=Fuzzy-1.2.2-cp39-cp39-linux_x86_64.whl size=215540 sha256=d85466055f1b2ecd2726e84aa02be32efe3df6de84934838fa3f0a7776c45a02\n",
            "  Stored in directory: /root/.cache/pip/wheels/cd/72/5c/3baf339199d883de942158b8759f447b8ecf14e4ec522294b4\n",
            "Successfully built fuzzy\n",
            "Installing collected packages: fuzzy\n",
            "Successfully installed fuzzy-1.2.2\n"
          ]
        },
        {
          "output_type": "execute_result",
          "data": {
            "text/plain": [
              "'CAD'"
            ],
            "application/vnd.google.colaboratory.intrinsic+json": {
              "type": "string"
            }
          },
          "metadata": {},
          "execution_count": 2
        }
      ]
    },
    {
      "metadata": {
        "dc": {
          "key": "10"
        },
        "deletable": false,
        "editable": false,
        "run_control": {
          "frozen": true
        },
        "tags": [
          "context"
        ],
        "id": "_YWARTMq2VKV"
      },
      "cell_type": "markdown",
      "source": [
        "## Authoring the authors\n"
      ]
    },
    {
      "metadata": {
        "dc": {
          "key": "10"
        },
        "tags": [
          "sample_code"
        ],
        "trusted": true,
        "colab": {
          "base_uri": "https://localhost:8080/",
          "height": 285
        },
        "id": "9vWXJlYf2VKW",
        "outputId": "efb57dbe-c76e-4cc2-ece2-c87812a00194"
      },
      "cell_type": "code",
      "source": [
        "# Importing the pandas module\n",
        "import pandas as pd\n",
        "\n",
        "# Reading in datasets/nytkids_yearly.csv, which is semicolon delimited.\n",
        "author_df = pd.read_csv('nytkids_yearly.csv', delimiter=';')\n",
        "\n",
        "# Looping through author_df['Author'] to extract the authors first names\n",
        "first_name = []\n",
        "for name in author_df['Author']:\n",
        "    first_name.append(name.split()[0])\n",
        "\n",
        "# Adding first_name as a column to author_df\n",
        "author_df['first_name'] = first_name\n",
        "\n",
        "# Checking out the first few rows of author_df\n",
        "author_df.head( )"
      ],
      "execution_count": 3,
      "outputs": [
        {
          "output_type": "execute_result",
          "data": {
            "text/plain": [
              "   Year                        Book Title                 Author  \\\n",
              "0  2017                DRAGONS LOVE TACOS             Adam Rubin   \n",
              "1  2017  THE WONDERFUL THINGS YOU WILL BE  Emily Winfield Martin   \n",
              "2  2017          THE DAY THE CRAYONS QUIT           Drew Daywalt   \n",
              "3  2017            ROSIE REVERE, ENGINEER           Andrea Beaty   \n",
              "4  2017              ADA TWIST, SCIENTIST           Andrea Beaty   \n",
              "\n",
              "   Besteller this year first_name  \n",
              "0                   49       Adam  \n",
              "1                   48      Emily  \n",
              "2                   44       Drew  \n",
              "3                   38     Andrea  \n",
              "4                   28     Andrea  "
            ],
            "text/html": [
              "\n",
              "  <div id=\"df-cfb11cac-817e-47af-b71d-1d49c2f8b83f\">\n",
              "    <div class=\"colab-df-container\">\n",
              "      <div>\n",
              "<style scoped>\n",
              "    .dataframe tbody tr th:only-of-type {\n",
              "        vertical-align: middle;\n",
              "    }\n",
              "\n",
              "    .dataframe tbody tr th {\n",
              "        vertical-align: top;\n",
              "    }\n",
              "\n",
              "    .dataframe thead th {\n",
              "        text-align: right;\n",
              "    }\n",
              "</style>\n",
              "<table border=\"1\" class=\"dataframe\">\n",
              "  <thead>\n",
              "    <tr style=\"text-align: right;\">\n",
              "      <th></th>\n",
              "      <th>Year</th>\n",
              "      <th>Book Title</th>\n",
              "      <th>Author</th>\n",
              "      <th>Besteller this year</th>\n",
              "      <th>first_name</th>\n",
              "    </tr>\n",
              "  </thead>\n",
              "  <tbody>\n",
              "    <tr>\n",
              "      <th>0</th>\n",
              "      <td>2017</td>\n",
              "      <td>DRAGONS LOVE TACOS</td>\n",
              "      <td>Adam Rubin</td>\n",
              "      <td>49</td>\n",
              "      <td>Adam</td>\n",
              "    </tr>\n",
              "    <tr>\n",
              "      <th>1</th>\n",
              "      <td>2017</td>\n",
              "      <td>THE WONDERFUL THINGS YOU WILL BE</td>\n",
              "      <td>Emily Winfield Martin</td>\n",
              "      <td>48</td>\n",
              "      <td>Emily</td>\n",
              "    </tr>\n",
              "    <tr>\n",
              "      <th>2</th>\n",
              "      <td>2017</td>\n",
              "      <td>THE DAY THE CRAYONS QUIT</td>\n",
              "      <td>Drew Daywalt</td>\n",
              "      <td>44</td>\n",
              "      <td>Drew</td>\n",
              "    </tr>\n",
              "    <tr>\n",
              "      <th>3</th>\n",
              "      <td>2017</td>\n",
              "      <td>ROSIE REVERE, ENGINEER</td>\n",
              "      <td>Andrea Beaty</td>\n",
              "      <td>38</td>\n",
              "      <td>Andrea</td>\n",
              "    </tr>\n",
              "    <tr>\n",
              "      <th>4</th>\n",
              "      <td>2017</td>\n",
              "      <td>ADA TWIST, SCIENTIST</td>\n",
              "      <td>Andrea Beaty</td>\n",
              "      <td>28</td>\n",
              "      <td>Andrea</td>\n",
              "    </tr>\n",
              "  </tbody>\n",
              "</table>\n",
              "</div>\n",
              "      <button class=\"colab-df-convert\" onclick=\"convertToInteractive('df-cfb11cac-817e-47af-b71d-1d49c2f8b83f')\"\n",
              "              title=\"Convert this dataframe to an interactive table.\"\n",
              "              style=\"display:none;\">\n",
              "        \n",
              "  <svg xmlns=\"http://www.w3.org/2000/svg\" height=\"24px\"viewBox=\"0 0 24 24\"\n",
              "       width=\"24px\">\n",
              "    <path d=\"M0 0h24v24H0V0z\" fill=\"none\"/>\n",
              "    <path d=\"M18.56 5.44l.94 2.06.94-2.06 2.06-.94-2.06-.94-.94-2.06-.94 2.06-2.06.94zm-11 1L8.5 8.5l.94-2.06 2.06-.94-2.06-.94L8.5 2.5l-.94 2.06-2.06.94zm10 10l.94 2.06.94-2.06 2.06-.94-2.06-.94-.94-2.06-.94 2.06-2.06.94z\"/><path d=\"M17.41 7.96l-1.37-1.37c-.4-.4-.92-.59-1.43-.59-.52 0-1.04.2-1.43.59L10.3 9.45l-7.72 7.72c-.78.78-.78 2.05 0 2.83L4 21.41c.39.39.9.59 1.41.59.51 0 1.02-.2 1.41-.59l7.78-7.78 2.81-2.81c.8-.78.8-2.07 0-2.86zM5.41 20L4 18.59l7.72-7.72 1.47 1.35L5.41 20z\"/>\n",
              "  </svg>\n",
              "      </button>\n",
              "      \n",
              "  <style>\n",
              "    .colab-df-container {\n",
              "      display:flex;\n",
              "      flex-wrap:wrap;\n",
              "      gap: 12px;\n",
              "    }\n",
              "\n",
              "    .colab-df-convert {\n",
              "      background-color: #E8F0FE;\n",
              "      border: none;\n",
              "      border-radius: 50%;\n",
              "      cursor: pointer;\n",
              "      display: none;\n",
              "      fill: #1967D2;\n",
              "      height: 32px;\n",
              "      padding: 0 0 0 0;\n",
              "      width: 32px;\n",
              "    }\n",
              "\n",
              "    .colab-df-convert:hover {\n",
              "      background-color: #E2EBFA;\n",
              "      box-shadow: 0px 1px 2px rgba(60, 64, 67, 0.3), 0px 1px 3px 1px rgba(60, 64, 67, 0.15);\n",
              "      fill: #174EA6;\n",
              "    }\n",
              "\n",
              "    [theme=dark] .colab-df-convert {\n",
              "      background-color: #3B4455;\n",
              "      fill: #D2E3FC;\n",
              "    }\n",
              "\n",
              "    [theme=dark] .colab-df-convert:hover {\n",
              "      background-color: #434B5C;\n",
              "      box-shadow: 0px 1px 3px 1px rgba(0, 0, 0, 0.15);\n",
              "      filter: drop-shadow(0px 1px 2px rgba(0, 0, 0, 0.3));\n",
              "      fill: #FFFFFF;\n",
              "    }\n",
              "  </style>\n",
              "\n",
              "      <script>\n",
              "        const buttonEl =\n",
              "          document.querySelector('#df-cfb11cac-817e-47af-b71d-1d49c2f8b83f button.colab-df-convert');\n",
              "        buttonEl.style.display =\n",
              "          google.colab.kernel.accessAllowed ? 'block' : 'none';\n",
              "\n",
              "        async function convertToInteractive(key) {\n",
              "          const element = document.querySelector('#df-cfb11cac-817e-47af-b71d-1d49c2f8b83f');\n",
              "          const dataTable =\n",
              "            await google.colab.kernel.invokeFunction('convertToInteractive',\n",
              "                                                     [key], {});\n",
              "          if (!dataTable) return;\n",
              "\n",
              "          const docLinkHtml = 'Like what you see? Visit the ' +\n",
              "            '<a target=\"_blank\" href=https://colab.research.google.com/notebooks/data_table.ipynb>data table notebook</a>'\n",
              "            + ' to learn more about interactive tables.';\n",
              "          element.innerHTML = '';\n",
              "          dataTable['output_type'] = 'display_data';\n",
              "          await google.colab.output.renderOutput(dataTable, element);\n",
              "          const docLink = document.createElement('div');\n",
              "          docLink.innerHTML = docLinkHtml;\n",
              "          element.appendChild(docLink);\n",
              "        }\n",
              "      </script>\n",
              "    </div>\n",
              "  </div>\n",
              "  "
            ]
          },
          "metadata": {},
          "execution_count": 3
        }
      ]
    },
    {
      "metadata": {
        "dc": {
          "key": "17"
        },
        "deletable": false,
        "editable": false,
        "run_control": {
          "frozen": true
        },
        "tags": [
          "context"
        ],
        "id": "3Sj0AMQi2VKg"
      },
      "cell_type": "markdown",
      "source": [
        "## It's time to bring on the phonics... _again_!\n"
      ]
    },
    {
      "metadata": {
        "dc": {
          "key": "17"
        },
        "tags": [
          "sample_code"
        ],
        "trusted": true,
        "colab": {
          "base_uri": "https://localhost:8080/"
        },
        "id": "HWHC6GkK2VKh",
        "outputId": "5576fd59-cbf9-41ed-ccf5-d531fe7286a1"
      },
      "cell_type": "code",
      "source": [
        "# Importing numpy\n",
        "import numpy as np\n",
        "\n",
        "# Looping through author's first names to create the nysiis (fuzzy) equivalent\n",
        "nysiis_name = []\n",
        "for name in author_df['Author']:\n",
        "    tmp = fuzzy.nysiis(name.split()[0])\n",
        "    nysiis_name.append(tmp)\n",
        "\n",
        "# Adding nysiis_name as a column to author_df\n",
        "author_df['nysiis_name'] = nysiis_name\n",
        "\n",
        "# Printing out the difference between unique firstnames and unique nysiis_names:\n",
        "diff_names = len(np.unique(author_df['first_name'])) - len(np.unique(author_df['nysiis_name']))\n",
        "print(f'There are {diff_names} more unique values for first_name than nysiis_name')"
      ],
      "execution_count": 4,
      "outputs": [
        {
          "output_type": "stream",
          "name": "stdout",
          "text": [
            "There are 25 more unique values for first_name than nysiis_name\n"
          ]
        }
      ]
    },
    {
      "metadata": {
        "dc": {
          "key": "24"
        },
        "deletable": false,
        "editable": false,
        "run_control": {
          "frozen": true
        },
        "tags": [
          "context"
        ],
        "id": "b-sjGDqm2VKh"
      },
      "cell_type": "markdown",
      "source": [
        "## The inbetweeners\n"
      ]
    },
    {
      "metadata": {
        "dc": {
          "key": "24"
        },
        "tags": [
          "sample_code"
        ],
        "trusted": true,
        "colab": {
          "base_uri": "https://localhost:8080/",
          "height": 206
        },
        "id": "jdsav2K02VKi",
        "outputId": "7c3cb87e-bb3d-45bc-8693-6fecc497dd34"
      },
      "cell_type": "code",
      "source": [
        "# Reading in datasets/babynames_nysiis.csv, which is semicolon delimited.\n",
        "babies_df = pd.read_csv('babynames_nysiis.csv', delimiter=';')\n",
        "\n",
        "# Looping through babies_df to and filling up gender\n",
        "gender = []\n",
        "for idx in range(len(babies_df['babynysiis'])):\n",
        "    if babies_df.perc_female[idx] > babies_df.perc_male[idx]:\n",
        "        gender.append('F')\n",
        "    elif babies_df.perc_female[idx] < babies_df.perc_male[idx]:\n",
        "        gender.append('M')\n",
        "    else:\n",
        "        gender.append('N')\n",
        "\n",
        "# Adding a gender column to babies_df\n",
        "babies_df['gender'] = gender\n",
        "\n",
        "# Printing out the first few rows of babies_df\n",
        "babies_df.head()"
      ],
      "execution_count": 5,
      "outputs": [
        {
          "output_type": "execute_result",
          "data": {
            "text/plain": [
              "  babynysiis  perc_female  perc_male gender\n",
              "0        NaN        62.50      37.50      F\n",
              "1        RAX        63.64      36.36      F\n",
              "2       ESAR        44.44      55.56      M\n",
              "3      DJANG         0.00     100.00      M\n",
              "4     PARCAL        25.00      75.00      M"
            ],
            "text/html": [
              "\n",
              "  <div id=\"df-77454dc5-37e4-4a35-af4f-42578bea3066\">\n",
              "    <div class=\"colab-df-container\">\n",
              "      <div>\n",
              "<style scoped>\n",
              "    .dataframe tbody tr th:only-of-type {\n",
              "        vertical-align: middle;\n",
              "    }\n",
              "\n",
              "    .dataframe tbody tr th {\n",
              "        vertical-align: top;\n",
              "    }\n",
              "\n",
              "    .dataframe thead th {\n",
              "        text-align: right;\n",
              "    }\n",
              "</style>\n",
              "<table border=\"1\" class=\"dataframe\">\n",
              "  <thead>\n",
              "    <tr style=\"text-align: right;\">\n",
              "      <th></th>\n",
              "      <th>babynysiis</th>\n",
              "      <th>perc_female</th>\n",
              "      <th>perc_male</th>\n",
              "      <th>gender</th>\n",
              "    </tr>\n",
              "  </thead>\n",
              "  <tbody>\n",
              "    <tr>\n",
              "      <th>0</th>\n",
              "      <td>NaN</td>\n",
              "      <td>62.50</td>\n",
              "      <td>37.50</td>\n",
              "      <td>F</td>\n",
              "    </tr>\n",
              "    <tr>\n",
              "      <th>1</th>\n",
              "      <td>RAX</td>\n",
              "      <td>63.64</td>\n",
              "      <td>36.36</td>\n",
              "      <td>F</td>\n",
              "    </tr>\n",
              "    <tr>\n",
              "      <th>2</th>\n",
              "      <td>ESAR</td>\n",
              "      <td>44.44</td>\n",
              "      <td>55.56</td>\n",
              "      <td>M</td>\n",
              "    </tr>\n",
              "    <tr>\n",
              "      <th>3</th>\n",
              "      <td>DJANG</td>\n",
              "      <td>0.00</td>\n",
              "      <td>100.00</td>\n",
              "      <td>M</td>\n",
              "    </tr>\n",
              "    <tr>\n",
              "      <th>4</th>\n",
              "      <td>PARCAL</td>\n",
              "      <td>25.00</td>\n",
              "      <td>75.00</td>\n",
              "      <td>M</td>\n",
              "    </tr>\n",
              "  </tbody>\n",
              "</table>\n",
              "</div>\n",
              "      <button class=\"colab-df-convert\" onclick=\"convertToInteractive('df-77454dc5-37e4-4a35-af4f-42578bea3066')\"\n",
              "              title=\"Convert this dataframe to an interactive table.\"\n",
              "              style=\"display:none;\">\n",
              "        \n",
              "  <svg xmlns=\"http://www.w3.org/2000/svg\" height=\"24px\"viewBox=\"0 0 24 24\"\n",
              "       width=\"24px\">\n",
              "    <path d=\"M0 0h24v24H0V0z\" fill=\"none\"/>\n",
              "    <path d=\"M18.56 5.44l.94 2.06.94-2.06 2.06-.94-2.06-.94-.94-2.06-.94 2.06-2.06.94zm-11 1L8.5 8.5l.94-2.06 2.06-.94-2.06-.94L8.5 2.5l-.94 2.06-2.06.94zm10 10l.94 2.06.94-2.06 2.06-.94-2.06-.94-.94-2.06-.94 2.06-2.06.94z\"/><path d=\"M17.41 7.96l-1.37-1.37c-.4-.4-.92-.59-1.43-.59-.52 0-1.04.2-1.43.59L10.3 9.45l-7.72 7.72c-.78.78-.78 2.05 0 2.83L4 21.41c.39.39.9.59 1.41.59.51 0 1.02-.2 1.41-.59l7.78-7.78 2.81-2.81c.8-.78.8-2.07 0-2.86zM5.41 20L4 18.59l7.72-7.72 1.47 1.35L5.41 20z\"/>\n",
              "  </svg>\n",
              "      </button>\n",
              "      \n",
              "  <style>\n",
              "    .colab-df-container {\n",
              "      display:flex;\n",
              "      flex-wrap:wrap;\n",
              "      gap: 12px;\n",
              "    }\n",
              "\n",
              "    .colab-df-convert {\n",
              "      background-color: #E8F0FE;\n",
              "      border: none;\n",
              "      border-radius: 50%;\n",
              "      cursor: pointer;\n",
              "      display: none;\n",
              "      fill: #1967D2;\n",
              "      height: 32px;\n",
              "      padding: 0 0 0 0;\n",
              "      width: 32px;\n",
              "    }\n",
              "\n",
              "    .colab-df-convert:hover {\n",
              "      background-color: #E2EBFA;\n",
              "      box-shadow: 0px 1px 2px rgba(60, 64, 67, 0.3), 0px 1px 3px 1px rgba(60, 64, 67, 0.15);\n",
              "      fill: #174EA6;\n",
              "    }\n",
              "\n",
              "    [theme=dark] .colab-df-convert {\n",
              "      background-color: #3B4455;\n",
              "      fill: #D2E3FC;\n",
              "    }\n",
              "\n",
              "    [theme=dark] .colab-df-convert:hover {\n",
              "      background-color: #434B5C;\n",
              "      box-shadow: 0px 1px 3px 1px rgba(0, 0, 0, 0.15);\n",
              "      filter: drop-shadow(0px 1px 2px rgba(0, 0, 0, 0.3));\n",
              "      fill: #FFFFFF;\n",
              "    }\n",
              "  </style>\n",
              "\n",
              "      <script>\n",
              "        const buttonEl =\n",
              "          document.querySelector('#df-77454dc5-37e4-4a35-af4f-42578bea3066 button.colab-df-convert');\n",
              "        buttonEl.style.display =\n",
              "          google.colab.kernel.accessAllowed ? 'block' : 'none';\n",
              "\n",
              "        async function convertToInteractive(key) {\n",
              "          const element = document.querySelector('#df-77454dc5-37e4-4a35-af4f-42578bea3066');\n",
              "          const dataTable =\n",
              "            await google.colab.kernel.invokeFunction('convertToInteractive',\n",
              "                                                     [key], {});\n",
              "          if (!dataTable) return;\n",
              "\n",
              "          const docLinkHtml = 'Like what you see? Visit the ' +\n",
              "            '<a target=\"_blank\" href=https://colab.research.google.com/notebooks/data_table.ipynb>data table notebook</a>'\n",
              "            + ' to learn more about interactive tables.';\n",
              "          element.innerHTML = '';\n",
              "          dataTable['output_type'] = 'display_data';\n",
              "          await google.colab.output.renderOutput(dataTable, element);\n",
              "          const docLink = document.createElement('div');\n",
              "          docLink.innerHTML = docLinkHtml;\n",
              "          element.appendChild(docLink);\n",
              "        }\n",
              "      </script>\n",
              "    </div>\n",
              "  </div>\n",
              "  "
            ]
          },
          "metadata": {},
          "execution_count": 5
        }
      ]
    },
    {
      "metadata": {
        "dc": {
          "key": "31"
        },
        "deletable": false,
        "editable": false,
        "run_control": {
          "frozen": true
        },
        "tags": [
          "context"
        ],
        "id": "Jk2BUvHp2VLB"
      },
      "cell_type": "markdown",
      "source": [
        "## Playing matchmaker\n"
      ]
    },
    {
      "metadata": {
        "dc": {
          "key": "31"
        },
        "tags": [
          "sample_code"
        ],
        "trusted": true,
        "colab": {
          "base_uri": "https://localhost:8080/"
        },
        "id": "Vvq6QVuT2VLC",
        "outputId": "2d5845a0-b83a-48e2-de93-d80977d7bc74"
      },
      "cell_type": "code",
      "source": [
        "# This function returns the location of an element in a_list.\n",
        "# Where an item does not exist, it returns -1.\n",
        "def locate_in_list(a_list, element):\n",
        "    loc_of_name = a_list.index(element) if element in a_list else -1\n",
        "    return(loc_of_name)\n",
        "\n",
        "# Looping through author_df['nysiis_name'] and appending the gender of each\n",
        "# author to author_gender.\n",
        "author_gender = []\n",
        "for name in author_df['nysiis_name']:\n",
        "    nloc = locate_in_list(list(babies_df['babynysiis']), name)\n",
        "    if nloc == -1:\n",
        "        author_gender.append('Unknown')\n",
        "    else:\n",
        "        author_gender.append(babies_df['gender'][nloc])\n",
        "\n",
        "# Adding author_gender to the author_df\n",
        "author_df['author_gender'] = author_gender\n",
        "\n",
        "# Counting the author's genders\n",
        "author_df.author_gender.value_counts()"
      ],
      "execution_count": 6,
      "outputs": [
        {
          "output_type": "execute_result",
          "data": {
            "text/plain": [
              "F          395\n",
              "M          191\n",
              "Unknown      9\n",
              "N            8\n",
              "Name: author_gender, dtype: int64"
            ]
          },
          "metadata": {},
          "execution_count": 6
        }
      ]
    },
    {
      "metadata": {
        "dc": {
          "key": "38"
        },
        "deletable": false,
        "editable": false,
        "run_control": {
          "frozen": true
        },
        "tags": [
          "context"
        ],
        "id": "3fN-rjTN2VLD"
      },
      "cell_type": "markdown",
      "source": [
        "## Tally up\n"
      ]
    },
    {
      "metadata": {
        "dc": {
          "key": "38"
        },
        "tags": [
          "sample_code"
        ],
        "trusted": true,
        "colab": {
          "base_uri": "https://localhost:8080/",
          "height": 143
        },
        "id": "WANIbUiv2VLD",
        "outputId": "af57c70d-d80e-42a9-d9d9-4668d8819980"
      },
      "cell_type": "code",
      "source": [
        "years = list(np.unique(author_df.Year))\n",
        "\n",
        "# Intializing lists\n",
        "males_by_yr = []\n",
        "females_by_yr = []\n",
        "unknown_by_yr = []\n",
        "\n",
        "# Looping through years to find the number of male, female and unknown authors per year\n",
        "for yr in years:\n",
        "    males_by_yr.append(\n",
        "        len(author_df[(author_df[\"author_gender\"] == 'M') & (author_df[\"Year\"] == yr)]))\n",
        "    females_by_yr.append(\n",
        "        len(author_df[(author_df[\"author_gender\"] == 'F') & (author_df[\"Year\"] == yr)]))\n",
        "    unknown_by_yr.append(len(\n",
        "        author_df[(author_df[\"author_gender\"] == 'Unknown') & (author_df[\"Year\"] == yr)]))\n",
        "\n",
        "# Printing out yearly values to examine changes over time\n",
        "data = np.array([males_by_yr, females_by_yr, unknown_by_yr])\n",
        "headers = ['males', 'females', 'unknowns']\n",
        "pd.DataFrame(data, headers, years)"
      ],
      "execution_count": 7,
      "outputs": [
        {
          "output_type": "execute_result",
          "data": {
            "text/plain": [
              "          2008  2009  2010  2011  2012  2013  2014  2015  2016  2017\n",
              "males        8    19    27    21    21    11    21    18    25    20\n",
              "females     15    45    48    51    46    51    34    30    32    43\n",
              "unknowns     1     3     0     1     0     2     1     0     0     1"
            ],
            "text/html": [
              "\n",
              "  <div id=\"df-c63b2828-e547-42d0-92bd-a4497ad24715\">\n",
              "    <div class=\"colab-df-container\">\n",
              "      <div>\n",
              "<style scoped>\n",
              "    .dataframe tbody tr th:only-of-type {\n",
              "        vertical-align: middle;\n",
              "    }\n",
              "\n",
              "    .dataframe tbody tr th {\n",
              "        vertical-align: top;\n",
              "    }\n",
              "\n",
              "    .dataframe thead th {\n",
              "        text-align: right;\n",
              "    }\n",
              "</style>\n",
              "<table border=\"1\" class=\"dataframe\">\n",
              "  <thead>\n",
              "    <tr style=\"text-align: right;\">\n",
              "      <th></th>\n",
              "      <th>2008</th>\n",
              "      <th>2009</th>\n",
              "      <th>2010</th>\n",
              "      <th>2011</th>\n",
              "      <th>2012</th>\n",
              "      <th>2013</th>\n",
              "      <th>2014</th>\n",
              "      <th>2015</th>\n",
              "      <th>2016</th>\n",
              "      <th>2017</th>\n",
              "    </tr>\n",
              "  </thead>\n",
              "  <tbody>\n",
              "    <tr>\n",
              "      <th>males</th>\n",
              "      <td>8</td>\n",
              "      <td>19</td>\n",
              "      <td>27</td>\n",
              "      <td>21</td>\n",
              "      <td>21</td>\n",
              "      <td>11</td>\n",
              "      <td>21</td>\n",
              "      <td>18</td>\n",
              "      <td>25</td>\n",
              "      <td>20</td>\n",
              "    </tr>\n",
              "    <tr>\n",
              "      <th>females</th>\n",
              "      <td>15</td>\n",
              "      <td>45</td>\n",
              "      <td>48</td>\n",
              "      <td>51</td>\n",
              "      <td>46</td>\n",
              "      <td>51</td>\n",
              "      <td>34</td>\n",
              "      <td>30</td>\n",
              "      <td>32</td>\n",
              "      <td>43</td>\n",
              "    </tr>\n",
              "    <tr>\n",
              "      <th>unknowns</th>\n",
              "      <td>1</td>\n",
              "      <td>3</td>\n",
              "      <td>0</td>\n",
              "      <td>1</td>\n",
              "      <td>0</td>\n",
              "      <td>2</td>\n",
              "      <td>1</td>\n",
              "      <td>0</td>\n",
              "      <td>0</td>\n",
              "      <td>1</td>\n",
              "    </tr>\n",
              "  </tbody>\n",
              "</table>\n",
              "</div>\n",
              "      <button class=\"colab-df-convert\" onclick=\"convertToInteractive('df-c63b2828-e547-42d0-92bd-a4497ad24715')\"\n",
              "              title=\"Convert this dataframe to an interactive table.\"\n",
              "              style=\"display:none;\">\n",
              "        \n",
              "  <svg xmlns=\"http://www.w3.org/2000/svg\" height=\"24px\"viewBox=\"0 0 24 24\"\n",
              "       width=\"24px\">\n",
              "    <path d=\"M0 0h24v24H0V0z\" fill=\"none\"/>\n",
              "    <path d=\"M18.56 5.44l.94 2.06.94-2.06 2.06-.94-2.06-.94-.94-2.06-.94 2.06-2.06.94zm-11 1L8.5 8.5l.94-2.06 2.06-.94-2.06-.94L8.5 2.5l-.94 2.06-2.06.94zm10 10l.94 2.06.94-2.06 2.06-.94-2.06-.94-.94-2.06-.94 2.06-2.06.94z\"/><path d=\"M17.41 7.96l-1.37-1.37c-.4-.4-.92-.59-1.43-.59-.52 0-1.04.2-1.43.59L10.3 9.45l-7.72 7.72c-.78.78-.78 2.05 0 2.83L4 21.41c.39.39.9.59 1.41.59.51 0 1.02-.2 1.41-.59l7.78-7.78 2.81-2.81c.8-.78.8-2.07 0-2.86zM5.41 20L4 18.59l7.72-7.72 1.47 1.35L5.41 20z\"/>\n",
              "  </svg>\n",
              "      </button>\n",
              "      \n",
              "  <style>\n",
              "    .colab-df-container {\n",
              "      display:flex;\n",
              "      flex-wrap:wrap;\n",
              "      gap: 12px;\n",
              "    }\n",
              "\n",
              "    .colab-df-convert {\n",
              "      background-color: #E8F0FE;\n",
              "      border: none;\n",
              "      border-radius: 50%;\n",
              "      cursor: pointer;\n",
              "      display: none;\n",
              "      fill: #1967D2;\n",
              "      height: 32px;\n",
              "      padding: 0 0 0 0;\n",
              "      width: 32px;\n",
              "    }\n",
              "\n",
              "    .colab-df-convert:hover {\n",
              "      background-color: #E2EBFA;\n",
              "      box-shadow: 0px 1px 2px rgba(60, 64, 67, 0.3), 0px 1px 3px 1px rgba(60, 64, 67, 0.15);\n",
              "      fill: #174EA6;\n",
              "    }\n",
              "\n",
              "    [theme=dark] .colab-df-convert {\n",
              "      background-color: #3B4455;\n",
              "      fill: #D2E3FC;\n",
              "    }\n",
              "\n",
              "    [theme=dark] .colab-df-convert:hover {\n",
              "      background-color: #434B5C;\n",
              "      box-shadow: 0px 1px 3px 1px rgba(0, 0, 0, 0.15);\n",
              "      filter: drop-shadow(0px 1px 2px rgba(0, 0, 0, 0.3));\n",
              "      fill: #FFFFFF;\n",
              "    }\n",
              "  </style>\n",
              "\n",
              "      <script>\n",
              "        const buttonEl =\n",
              "          document.querySelector('#df-c63b2828-e547-42d0-92bd-a4497ad24715 button.colab-df-convert');\n",
              "        buttonEl.style.display =\n",
              "          google.colab.kernel.accessAllowed ? 'block' : 'none';\n",
              "\n",
              "        async function convertToInteractive(key) {\n",
              "          const element = document.querySelector('#df-c63b2828-e547-42d0-92bd-a4497ad24715');\n",
              "          const dataTable =\n",
              "            await google.colab.kernel.invokeFunction('convertToInteractive',\n",
              "                                                     [key], {});\n",
              "          if (!dataTable) return;\n",
              "\n",
              "          const docLinkHtml = 'Like what you see? Visit the ' +\n",
              "            '<a target=\"_blank\" href=https://colab.research.google.com/notebooks/data_table.ipynb>data table notebook</a>'\n",
              "            + ' to learn more about interactive tables.';\n",
              "          element.innerHTML = '';\n",
              "          dataTable['output_type'] = 'display_data';\n",
              "          await google.colab.output.renderOutput(dataTable, element);\n",
              "          const docLink = document.createElement('div');\n",
              "          docLink.innerHTML = docLinkHtml;\n",
              "          element.appendChild(docLink);\n",
              "        }\n",
              "      </script>\n",
              "    </div>\n",
              "  </div>\n",
              "  "
            ]
          },
          "metadata": {},
          "execution_count": 7
        }
      ]
    },
    {
      "metadata": {
        "dc": {
          "key": "45"
        },
        "deletable": false,
        "editable": false,
        "run_control": {
          "frozen": true
        },
        "tags": [
          "context"
        ],
        "id": "0WVNNxxy2VLe"
      },
      "cell_type": "markdown",
      "source": [
        "## Foreign-born authors?\n"
      ]
    },
    {
      "metadata": {
        "dc": {
          "key": "45"
        },
        "tags": [
          "sample_code"
        ],
        "trusted": true,
        "colab": {
          "base_uri": "https://localhost:8080/",
          "height": 489
        },
        "id": "MZZywDz82VLf",
        "outputId": "910f5f66-8848-4d68-ef94-1ca8f750cc9b"
      },
      "cell_type": "code",
      "source": [
        "# Importing matplotlib\n",
        "import matplotlib.pyplot as plt\n",
        "\n",
        "# This makes plots appear in the notebook\n",
        "%matplotlib inline\n",
        "\n",
        "# Plotting the bar chart\n",
        "plt.bar(years, unknown_by_yr)\n",
        "\n",
        "# [OPTIONAL] - Setting a title, and axes labels\n",
        "plt.title('unknown gender by year')\n",
        "plt.xlabel('years')"
      ],
      "execution_count": 8,
      "outputs": [
        {
          "output_type": "execute_result",
          "data": {
            "text/plain": [
              "Text(0.5, 0, 'years')"
            ]
          },
          "metadata": {},
          "execution_count": 8
        },
        {
          "output_type": "display_data",
          "data": {
            "text/plain": [
              "<Figure size 640x480 with 1 Axes>"
            ],
            "image/png": "[encoded data removed]"
          },
          "metadata": {}
        }
      ]
    },
    {
      "metadata": {
        "dc": {
          "key": "52"
        },
        "deletable": false,
        "editable": false,
        "run_control": {
          "frozen": true
        },
        "tags": [
          "context"
        ],
        "id": "-TaBX-AP2VLi"
      },
      "cell_type": "markdown",
      "source": [
        "## Raising the bar\n"
      ]
    },
    {
      "metadata": {
        "dc": {
          "key": "52"
        },
        "tags": [
          "sample_code"
        ],
        "trusted": true,
        "colab": {
          "base_uri": "https://localhost:8080/",
          "height": 489
        },
        "id": "RHyJI91I2VLi",
        "outputId": "7715e9b2-7c89-41d4-92c4-8646f4758c8d"
      },
      "cell_type": "code",
      "source": [
        "# Creating a new list, where 0.25 is added to each year\n",
        "years_shifted = [year + 0.25 for year in years]\n",
        "\n",
        "# Plotting males_by_yr by year\n",
        "plt.bar(years, males_by_yr, width=0.25,color='lightblue' )\n",
        "\n",
        "# Plotting females_by_yr by years_shifted\n",
        "plt.bar(years_shifted, females_by_yr, width=0.25,color='pink' )\n",
        "\n",
        "# [OPTIONAL] - Adding relevant Axes labels and Chart Title\n",
        "plt.title('male/female gender by year')\n",
        "plt.xlabel('years')"
      ],
      "execution_count": 9,
      "outputs": [
        {
          "output_type": "execute_result",
          "data": {
            "text/plain": [
              "Text(0.5, 0, 'years')"
            ]
          },
          "metadata": {},
          "execution_count": 9
        },
        {
          "output_type": "display_data",
          "data": {
            "text/plain": [
              "<Figure size 640x480 with 1 Axes>"
            ],
            "image/png": "[encoded data removed]"
          },
          "metadata": {}
        }
      ]
    },
    {
      "cell_type": "code",
      "source": [],
      "metadata": {
        "id": "l3a-wTNL25bU"
      },
      "execution_count": null,
      "outputs": []
    }
  ],
  "metadata": {
    "kernelspec": {
      "name": "python3",
      "display_name": "Python 3",
      "language": "python"
    },
    "language_info": {
      "name": "python",
      "version": "3.6.7",
      "mimetype": "text/x-python",
      "codemirror_mode": {
        "name": "ipython",
        "version": 3
      },
      "pygments_lexer": "ipython3",
      "nbconvert_exporter": "python",
      "file_extension": ".py"
    },
    "colab": {
      "provenance": []
    }
  },
  "nbformat": 4,
  "nbformat_minor": 0
}