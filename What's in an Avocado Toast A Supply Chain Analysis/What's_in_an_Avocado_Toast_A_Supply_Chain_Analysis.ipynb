{
  "cells": [
    {
      "source": [
        "# What's in an Avocado Toast: A Supply Chain Analysis\n",
        "\n",
        "You're in London, making an avocado toast, a quick-to-make dish that has soared in popularity on breakfast menus since the 2010s. A simple smashed avocado toast can be made with five ingredients: one ripe avocado, half a lemon, a big pinch of salt flakes, two slices of sourdough bread and a good drizzle of extra virgin olive oil.\n",
        "\n",
        "It's no small feat that most of these ingredients are readily available in grocery stores. In this project, I conducted a supply chain analysis of the ingredients used in an avocado toast, utilizing the [Open Food Facts database](https://world.openfoodfacts.org/). This database contains extensive, openly-sourced information on various foods, including their origins. Through this analysis, we will gain an in-depth understanding of the complex supply chain involved in producing a single dish. The data is contained in `.csv` files in the `data/` folder provided.\n",
        "\n",
        "After completing this project, we'll be armed with a list of ingredients and their countries of origin, and be well-positioned to launch into other analyses that explore how long, on average, these ingredients spend at sea.\n",
        "\n",
        "![](avocado_wallpaper.jpeg)"
      ],
      "metadata": {
        "id": "32ec92a0-c21a-45b8-ac63-9f9c698a1291"
      },
      "id": "32ec92a0-c21a-45b8-ac63-9f9c698a1291",
      "cell_type": "markdown"
    },
    {
      "source": [
        "import pandas as pd"
      ],
      "metadata": {
        "executionTime": 140,
        "lastSuccessfullyExecutedCode": "import pandas as pd",
        "id": "339a6352-aed5-4b9e-a48f-1b91a7db9adb"
      },
      "id": "339a6352-aed5-4b9e-a48f-1b91a7db9adb",
      "cell_type": "code",
      "execution_count": 1,
      "outputs": []
    },
    {
      "source": [
        "# Reading tab-delimited data\n",
        "import pandas as pd\n",
        "avocado = pd.read_csv('avocado.csv', sep='\\t')\n",
        "\n",
        "# Subsetting a DataFrame to include only relevant columns\n",
        "subset_columns = [ 'code', 'lc', 'product_name_en', 'quantity', 'serving_size', 'packaging_tags', 'brands', 'brands_tags', 'categories_tags', 'labels_tags', 'countries', 'countries_tags', 'origins','origins_tags']\n",
        "avocado = avocado[subset_columns]\n",
        "\n",
        "# Dropping rows with null values in a particular column\n",
        "avocado = avocado.dropna(subset = 'categories_tags')\n",
        "\n",
        "# Turning a column of comma separated tags into a column of lists\n",
        "avocado['categories_list'] = avocado['categories_tags'].str.split(',')\n",
        "\n",
        "# Identifying relevant categories for avocados\n",
        "relevant_avocado_categories = [\n",
        "    'en:avocadoes',\n",
        "     'en:avocados',\n",
        "     'en:fresh-foods',\n",
        "     'en:fresh-vegetables',\n",
        "     'en:fruchte',\n",
        "     'en:fruits',\n",
        "     'en:raw-green-avocados',\n",
        "     'en:tropical-fruits',\n",
        "     'en:tropische-fruchte',\n",
        "     'en:vegetables-based-foods',\n",
        "     'fr:hass-avocados'\n",
        "]\n",
        "\n",
        "\n",
        "# Filtering a DataFrame based on a column of lists\n",
        "avocado = avocado[avocado['categories_list'].apply(lambda x: any([i for i in x if i in relevant_avocado_categories]))]\n",
        "\n",
        "# Filtering your DataFrame by a particular country\n",
        "avocados_uk = avocado[(avocado['countries']=='United Kingdom')]\n",
        "\n",
        "# Returning counts of unique values in a column\n",
        "print('**avocado origins**:', '\\n', avocados_uk['origins_tags'].value_counts(),  '\\n')\n",
        "avocado_origin = 'Peru'\n",
        "\n",
        "# Create a user-defined function to read and filter data\n",
        "def read_and_filter_data(filepath, relevant_categories):\n",
        "  df = pd.read_csv(filepath, sep='\\t')\n",
        "\n",
        "  # Subset data\n",
        "  df = df[subset_columns]\n",
        "\n",
        "  # Split tags into lists\n",
        "  df['categories_list'] = df['categories_tags'].str.split(',')\n",
        "\n",
        "  # Drop null categories and filter data\n",
        "  df = df.dropna(subset = 'categories_list')\n",
        "\n",
        "  df = df[df['categories_list'].apply(lambda x: any([i for i in x if i in relevant_categories]))]\n",
        "    \n",
        "  df = df[(df['countries']=='United Kingdom')]\n",
        "  print(f'**{filepath[:-4]} origins**','\\n',df['origins_tags'].value_counts(), '\\n')\n",
        "\n",
        "  return df\n",
        "\n",
        "# Identify relevant categories for lemons\n",
        "relevant_lemon_categories = [\n",
        " 'en:aromatic-herbs',\n",
        " 'en:aromatic-plants',\n",
        " 'en:citron',\n",
        " 'en:citrus',\n",
        " 'en:fresh-fruits',\n",
        " 'en:fresh-lemons',\n",
        " 'en:fruits',\n",
        " 'en:lemons',\n",
        " 'en:unwaxed-lemons'\n",
        "]\n",
        "\n",
        "# Call your user-defined function on lemon.csv\n",
        "lemons = read_and_filter_data('lemon.csv',relevant_lemon_categories)\n",
        "lemon_origin = 'South Africa'\n",
        "\n",
        "# Call your user-defined function on olive_oil.csv\n",
        "\n",
        "with open(\"relevant_olive_oil_categories.txt\", \"r\") as file:\n",
        "    relevant_olive_oil_categories = file.read().splitlines()\n",
        "    file.close()\n",
        "\n",
        "olive_oil = read_and_filter_data('olive_oil.csv',relevant_olive_oil_categories)\n",
        "olive_oil_origin = 'Greece'\n",
        "\n",
        "# Call your user-defined function on sourdough.csv\n",
        "\n",
        "with open(\"relevant_sourdough_categories.txt\", \"r\") as file:\n",
        "    relevant_sourdough_categories = file.read().splitlines()\n",
        "    file.close()\n",
        "    \n",
        "sourdough = read_and_filter_data('sourdough.csv',relevant_sourdough_categories)\n",
        "sourdough_origin = 'United Kingdom'\n",
        "\n",
        "relevant_salt_categories = [\n",
        " 'en:edible-common-salt',\n",
        " 'en:salts',\n",
        " 'en:sea-salts',]\n",
        "\n",
        "# Call your user-defined function on salt.csv\n",
        "\n",
        "salt_flakes = read_and_filter_data('salt_flakes.csv',relevant_salt_categories)\n"
      ],
      "metadata": {
        "executionTime": 708,
        "lastSuccessfullyExecutedCode": "### Task 1. Reading in the avocado data\n\n# Reading tab-delimited data\nimport pandas as pd\navocado = pd.read_csv('data/avocado.csv', sep='\\t')\n\n# Subsetting a DataFrame to include only relevant columns\nsubset_columns = [ 'code', 'lc', 'product_name_en', 'quantity', 'serving_size', 'packaging_tags', 'brands', 'brands_tags', 'categories_tags', 'labels_tags', 'countries', 'countries_tags', 'origins','origins_tags']\navocado = avocado[subset_columns]\n\n### Task 2. Filter avocado data using relevant category tags\n\n# Dropping rows with null values in a particular column\navocado = avocado.dropna(subset = 'categories_tags')\n\n# Turning a column of comma separated tags into a column of lists\navocado['categories_list'] = avocado['categories_tags'].str.split(',')\n\n# Identifying relevant categories for avocados\nrelevant_avocado_categories = [\n    'en:avocadoes',\n     'en:avocados',\n     'en:fresh-foods',\n     'en:fresh-vegetables',\n     'en:fruchte',\n     'en:fruits',\n     'en:raw-green-avocados',\n     'en:tropical-fruits',\n     'en:tropische-fruchte',\n     'en:vegetables-based-foods',\n     'fr:hass-avocados'\n]\n\n\n# Filtering a DataFrame based on a column of lists\navocado = avocado[avocado['categories_list'].apply(lambda x: any([i for i in x if i in relevant_avocado_categories]))]\n\n\n### Task 3. Where do most avocados come from?\n\n# Filtering your DataFrame by a particular country\navocados_uk = avocado[(avocado['countries']=='United Kingdom')]\n\n# Returning counts of unique values in a column\nprint('**avocado origins**:', '\\n', avocados_uk['origins_tags'].value_counts(),  '\\n')\navocado_origin = 'Peru'\n\n### Task 4. Don't Repeat Yourself (DRY): Create a user-define function instead!\n\n# Create a user-defined function to read and filter data\ndef read_and_filter_data(filepath, relevant_categories):\n  df = pd.read_csv('data/' + filepath, sep='\\t')\n\n  # Subset data\n  df = df[subset_columns]\n\n  # Split tags into lists\n  df['categories_list'] = df['categories_tags'].str.split(',')\n\n  # Drop null categories and filter data\n  df = df.dropna(subset = 'categories_list')\n\n  df = df[df['categories_list'].apply(lambda x: any([i for i in x if i in relevant_categories]))]\n    \n  df = df[(df['countries']=='United Kingdom')]\n  print(f'**{filepath[:-4]} origins**','\\n',df['origins_tags'].value_counts(), '\\n')\n\n  return df\n\n# Identify relevant categories for lemons\nrelevant_lemon_categories = [\n 'en:aromatic-herbs',\n 'en:aromatic-plants',\n 'en:citron',\n 'en:citrus',\n 'en:fresh-fruits',\n 'en:fresh-lemons',\n 'en:fruits',\n 'en:lemons',\n 'en:unwaxed-lemons'\n]\n\n# Call your user-defined function on lemon.csv\nlemons = read_and_filter_data('lemon.csv',relevant_lemon_categories)\nlemon_origin = 'South Africa'\n\n## Task 5. Call your user-defined function on the olive oil, salt and sourdough data\n\n# Call your user-defined function on olive_oil.csv\n\nwith open(\"data/relevant_olive_oil_categories.txt\", \"r\") as file:\n    relevant_olive_oil_categories = file.read().splitlines()\n    file.close()\n\nolive_oil = read_and_filter_data('olive_oil.csv',relevant_olive_oil_categories)\nolive_oil_origin = 'Greece'\n\n# Call your user-defined function on sourdough.csv\n\nwith open(\"data/relevant_sourdough_categories.txt\", \"r\") as file:\n    relevant_sourdough_categories = file.read().splitlines()\n    file.close()\n    \nsourdough = read_and_filter_data('sourdough.csv',relevant_sourdough_categories)\nsourdough_origin = 'United Kingdom'\n\nrelevant_salt_categories = [\n 'en:edible-common-salt',\n 'en:salts',\n 'en:sea-salts',]\n\n# Call your user-defined function on salt.csv\n\nsalt_flakes = read_and_filter_data('salt_flakes.csv',relevant_salt_categories)\n",
        "colab": {
          "base_uri": "https://localhost:8080/"
        },
        "id": "742366f3-509f-4b6b-b179-6e8578f9a438",
        "outputId": "d1269656-fc42-4aa8-afa3-4f43e1df27f0"
      },
      "cell_type": "code",
      "id": "742366f3-509f-4b6b-b179-6e8578f9a438",
      "execution_count": 3,
      "outputs": [
        {
          "output_type": "stream",
          "name": "stdout",
          "text": [
            "**avocado origins**: \n",
            " en:peru             2\n",
            "en:spain,en:peru    1\n",
            "en:chile,en:peru    1\n",
            "en:israel           1\n",
            "Name: origins_tags, dtype: int64 \n",
            "\n"
          ]
        },
        {
          "output_type": "stream",
          "name": "stderr",
          "text": [
            "<ipython-input-3-957721a0620f>:43: DtypeWarning: Columns (1,2,4,5,7,8,9,10,12,15,17,18,19,21,22,23,24,26,27,28,29,30,31,32,33,34,35,36,37,38,39,40,41,43,44,46,47,48,49,50,51,52,53,54,55,75,76,77,80,81,82,83,84,85,86,88,90,91,93,94,95,97,98,99,100,102,103,104,105,106,107,108,109,120,124,128,132,136,140,144,148,152,156,162,164,166,168,170,174,178,180,182,184,186,188,190,200,202,204,206,208,210,214,216,220,222,224,242,256,258,260,262,264,266,270,272,274,278,280,281,282,283,284,285,286,287,288,289,290,292,293,294,295,296,307,321,322,323,324,325,326) have mixed types. Specify dtype option on import or set low_memory=False.\n",
            "  df = pd.read_csv(filepath, sep='\\t')\n"
          ]
        },
        {
          "output_type": "stream",
          "name": "stdout",
          "text": [
            "**lemon origins** \n",
            " en:brazil,en:south-africa    1\n",
            "en:south-africa              1\n",
            "Name: origins_tags, dtype: int64 \n",
            "\n"
          ]
        },
        {
          "output_type": "stream",
          "name": "stderr",
          "text": [
            "<ipython-input-3-957721a0620f>:43: DtypeWarning: Columns (0,1,2,4,5,6,7,8,10,13,15,16,17,18,20,21,22,23,24,25,26,27,29,30,31,32,33,34,35,36,37,38,39,42,43,44,45,46,48,49,50,57,67,70,71,72,73,74,75,76,79,80,81,82,83,86,87,88,89,90,91,92,95,96,97,98,99,100,101,102,103,104,105,106,107,108,109,110,115,121,125,129,133,137,141,145,149,153,157,159,161,165,167,169,177,179,181,183,185,187,189,191,193,195,197,199,201,203,205,211,213,215,217,219,221,223,225,227,229,231,233,235,237,239,241,243,245,247,249,251,253,255,257,259,261,263,265,267,269,271,273,274,275,276,277,278,279,280,281,282,283,284,285,286,288,289,290,291,292,293,294,305,311,312,313,315,316,319,320,321,322,324) have mixed types. Specify dtype option on import or set low_memory=False.\n",
            "  df = pd.read_csv(filepath, sep='\\t')\n"
          ]
        },
        {
          "output_type": "stream",
          "name": "stdout",
          "text": [
            "**olive_oil origins** \n",
            " en:greece                                             6\n",
            "en:spain                                              4\n",
            "en:italy                                              4\n",
            "en:greece,en:italy,en:portugal,en:spain,en:tunisia    2\n",
            "en:produce-of-italy                                   1\n",
            "en:european-union-and-non-european-union              1\n",
            "en:produced-in-italy                                  1\n",
            "en:european-union                                     1\n",
            "Name: origins_tags, dtype: int64 \n",
            "\n",
            "**sourdough origins** \n",
            " en:united-kingdom    3\n",
            "en:france            1\n",
            "Name: origins_tags, dtype: int64 \n",
            "\n",
            "**salt_flakes origins** \n",
            " Series([], Name: origins_tags, dtype: int64) \n",
            "\n"
          ]
        }
      ]
    },
    {
      "cell_type": "code",
      "source": [],
      "metadata": {
        "id": "P84W3Jsiy5i7"
      },
      "id": "P84W3Jsiy5i7",
      "execution_count": null,
      "outputs": []
    }
  ],
  "metadata": {
    "colab": {
      "provenance": []
    },
    "kernelspec": {
      "display_name": "Python 3 (ipykernel)",
      "language": "python",
      "name": "python3"
    },
    "language_info": {
      "codemirror_mode": {
        "name": "ipython",
        "version": 3
      },
      "file_extension": ".py",
      "mimetype": "text/x-python",
      "name": "python",
      "nbconvert_exporter": "python",
      "pygments_lexer": "ipython3",
      "version": "3.8.10"
    }
  },
  "nbformat": 4,
  "nbformat_minor": 5
}