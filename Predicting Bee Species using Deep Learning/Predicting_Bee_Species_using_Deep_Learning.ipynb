{
  "nbformat": 4,
  "nbformat_minor": 0,
  "metadata": {
    "colab": {
      "provenance": []
    },
    "kernelspec": {
      "name": "python3",
      "display_name": "Python 3"
    },
    "language_info": {
      "name": "python"
    }
  },
  "cells": [
    {
      "cell_type": "markdown",
      "source": [
        "## Import Python libraries"
      ],
      "metadata": {
        "id": "K4bQWhCV2rxe"
      }
    },
    {
      "cell_type": "code",
      "execution_count": 1,
      "metadata": {
        "id": "1Z4bZ2UEyvFd"
      },
      "outputs": [],
      "source": [
        "import pickle\n",
        "from pathlib import Path\n",
        "from skimage import io\n",
        "\n",
        "import pandas as pd\n",
        "import numpy as np\n",
        "\n",
        "import matplotlib.pyplot as plt\n",
        "%matplotlib inline\n",
        "\n",
        "from sklearn.preprocessing import StandardScaler\n",
        "from sklearn.model_selection import train_test_split\n",
        "from sklearn.metrics import classification_report\n",
        "\n",
        "# import keras library\n",
        "import keras\n",
        "\n",
        "# import Sequential from the keras models module\n",
        "from keras import Sequential \n",
        "\n",
        "# import Dense, Dropout, Flatten, Conv2D, MaxPooling2D from the keras layers module\n",
        "from keras.layers import Dense, Dropout, Flatten, Conv2D, MaxPooling2D"
      ]
    },
    {
      "cell_type": "markdown",
      "source": [
        "## Load image labels"
      ],
      "metadata": {
        "id": "SevzXrEl2wg2"
      }
    },
    {
      "cell_type": "code",
      "source": [
        "# load labels.csv from datasets folder using pandas\n",
        "labels = pd.read_csv('labels.csv', index_col=0)\n",
        "\n",
        "# print value counts for genus\n",
        "print(labels.genus.value_counts())\n",
        "\n",
        "# assign the genus label values to y\n",
        "y = labels.genus.values"
      ],
      "metadata": {
        "colab": {
          "base_uri": "https://localhost:8080/"
        },
        "id": "uETtYGEr2mzs",
        "outputId": "c9d2de54-2c56-4a45-ce23-adbc063a5afa"
      },
      "execution_count": 2,
      "outputs": [
        {
          "output_type": "stream",
          "name": "stdout",
          "text": [
            "1.0    827\n",
            "0.0    827\n",
            "Name: genus, dtype: int64\n"
          ]
        }
      ]
    },
    {
      "cell_type": "markdown",
      "source": [
        "## Examine RGB values in an image matrix"
      ],
      "metadata": {
        "id": "zR8g3HWH22ok"
      }
    },
    {
      "cell_type": "code",
      "source": [
        "# load an image and explore\n",
        "example_image = io.imread('images/{}.jpg'.format(labels.index[0]))\n",
        "\n",
        "# show image\n",
        "plt.imshow(example_image)\n",
        "\n",
        "# print shape\n",
        "print('Example image has shape: ', example_image.shape)\n",
        "                    \n",
        "# print color channel values for top left pixel\n",
        "print('RGB values for the top left pixel are:', example_image[0, 0, :])"
      ],
      "metadata": {
        "colab": {
          "base_uri": "https://localhost:8080/",
          "height": 467
        },
        "id": "1O7QuaqP2m4Y",
        "outputId": "9222b68a-a917-4f1d-84b3-d8f2cb788564"
      },
      "execution_count": 3,
      "outputs": [
        {
          "output_type": "stream",
          "name": "stdout",
          "text": [
            "Example image has shape:  (50, 50, 3)\n",
            "RGB values for the top left pixel are: [127 108  95]\n"
          ]
        },
        {
          "output_type": "display_data",
          "data": {
            "text/plain": [
              "<Figure size 640x480 with 1 Axes>"
            ],
            "image/png": "[encoded data removed]"
          },
          "metadata": {}
        }
      ]
    },
    {
      "cell_type": "markdown",
      "source": [
        "## Importing the image data"
      ],
      "metadata": {
        "id": "StsDjqZg2_6S"
      }
    },
    {
      "cell_type": "code",
      "source": [
        "# create empty list\n",
        "image_list = []\n",
        "\n",
        "for i in labels.index:\n",
        "    # load image\n",
        "    img = io.imread('images/{}.jpg'.format(i)).astype(np.float64)\n",
        "        \n",
        "    # append to list of all images\n",
        "    image_list.append(img)\n",
        "    \n",
        "# convert image list to single array\n",
        "X = np.array(image_list)\n",
        "\n",
        "print(X.shape)"
      ],
      "metadata": {
        "colab": {
          "base_uri": "https://localhost:8080/"
        },
        "id": "QrGAURWl2m6s",
        "outputId": "426ab559-a1db-4a81-b9f2-445e4439e83a"
      },
      "execution_count": 4,
      "outputs": [
        {
          "output_type": "stream",
          "name": "stdout",
          "text": [
            "(1654, 50, 50, 3)\n"
          ]
        }
      ]
    },
    {
      "cell_type": "markdown",
      "source": [
        "## Split into train, test, and evaluation sets"
      ],
      "metadata": {
        "id": "dw41Y4uI3FvW"
      }
    },
    {
      "cell_type": "code",
      "source": [
        "# split out evaluation sets (x_eval and y_eval)\n",
        "x_interim, x_eval, y_interim, y_eval = train_test_split(X,\n",
        "                                           y,\n",
        "                                           test_size=0.2,\n",
        "                                           random_state=52)\n",
        "\n",
        "# split remaining data into train and test sets\n",
        "x_train, x_test, y_train, y_test = train_test_split(x_interim, y_interim, test_size=0.4, random_state = 52)\n",
        "\n",
        "# examine number of samples in train, test, and validation sets\n",
        "print('x_train shape:', x_train.shape)\n",
        "print(x_train.shape[0], 'train samples')\n",
        "print(x_test.shape[0], 'test samples')\n",
        "print(x_eval.shape[0], 'eval samples')"
      ],
      "metadata": {
        "colab": {
          "base_uri": "https://localhost:8080/"
        },
        "id": "mmClXNOs2m9D",
        "outputId": "d0871a62-0ff9-41fe-b868-85e13fe0de5f"
      },
      "execution_count": 5,
      "outputs": [
        {
          "output_type": "stream",
          "name": "stdout",
          "text": [
            "x_train shape: (793, 50, 50, 3)\n",
            "793 train samples\n",
            "530 test samples\n",
            "331 eval samples\n"
          ]
        }
      ]
    },
    {
      "cell_type": "markdown",
      "source": [
        "##  Normalize image data"
      ],
      "metadata": {
        "id": "z_5xZw1d3MF_"
      }
    },
    {
      "cell_type": "code",
      "source": [
        "# initialize standard scaler\n",
        "ss = StandardScaler()\n",
        "\n",
        "def scale_features(train_features, test_features):\n",
        "    for image in train_features:\n",
        "        # for each channel, apply standard scaler's fit_transform method\n",
        "        for channel in range(image.shape[2]):\n",
        "            image[:, :, channel] = ss.fit_transform(image[:, :, channel])\n",
        "    for image in test_features:\n",
        "        # for each channel, apply standard scaler's transform method\n",
        "        for channel in range(image.shape[2]):\n",
        "            image[:, :, channel] = ss.transform(image[:, :, channel])\n",
        "\n",
        "# apply scale_features to four sets of features\n",
        "scale_features(x_interim, x_eval)\n",
        "scale_features(x_train, x_test)"
      ],
      "metadata": {
        "id": "GLhp7bL_2nKh"
      },
      "execution_count": 6,
      "outputs": []
    },
    {
      "cell_type": "markdown",
      "source": [
        "## Model building "
      ],
      "metadata": {
        "id": "6lpUocjo3UqY"
      }
    },
    {
      "cell_type": "code",
      "source": [
        "# set model constants\n",
        "num_classes = 1\n",
        "# define model as Sequential\n",
        "model = Sequential()\n",
        "# first convolutional layer with 32 filters\n",
        "model.add(Conv2D(32, kernel_size=(3, 3), activation='relu', input_shape=(50, 50, 3)))\n",
        "# add a second 2D convolutional layer with 64 filters\n",
        "model.add(Conv2D(64, kernel_size=(3, 3), activation='relu'))\n",
        "# reduce dimensionality through max pooling\n",
        "model.add(MaxPooling2D(pool_size=(2,2)))\n",
        "# third convolutional layer with 64 filters\n",
        "model.add(Conv2D(64, kernel_size=(3, 3), activation='relu'))\n",
        "# add dropout to prevent over fitting\n",
        "model.add(Dropout(0.25))\n",
        "# necessary flatten step preceeding dense layer\n",
        "model.add(Flatten())\n",
        "# fully connected layer\n",
        "model.add(Dense(128, activation='relu'))\n",
        "# add additional dropout to prevent overfitting\n",
        "model.add(Dropout(0.5))\n",
        "# prediction layers\n",
        "model.add(Dense(num_classes, activation='sigmoid', name='preds'))\n",
        "# show model summary\n",
        "model.summary()"
      ],
      "metadata": {
        "colab": {
          "base_uri": "https://localhost:8080/"
        },
        "id": "QEpODLfN2nOx",
        "outputId": "345c36ab-32e2-4881-ec9d-dc95be9e88e0"
      },
      "execution_count": 7,
      "outputs": [
        {
          "output_type": "stream",
          "name": "stdout",
          "text": [
            "Model: \"sequential\"\n",
            "_________________________________________________________________\n",
            " Layer (type)                Output Shape              Param #   \n",
            "=================================================================\n",
            " conv2d (Conv2D)             (None, 48, 48, 32)        896       \n",
            "                                                                 \n",
            " conv2d_1 (Conv2D)           (None, 46, 46, 64)        18496     \n",
            "                                                                 \n",
            " max_pooling2d (MaxPooling2D  (None, 23, 23, 64)       0         \n",
            " )                                                               \n",
            "                                                                 \n",
            " conv2d_2 (Conv2D)           (None, 21, 21, 64)        36928     \n",
            "                                                                 \n",
            " dropout (Dropout)           (None, 21, 21, 64)        0         \n",
            "                                                                 \n",
            " flatten (Flatten)           (None, 28224)             0         \n",
            "                                                                 \n",
            " dense (Dense)               (None, 128)               3612800   \n",
            "                                                                 \n",
            " dropout_1 (Dropout)         (None, 128)               0         \n",
            "                                                                 \n",
            " preds (Dense)               (None, 1)                 129       \n",
            "                                                                 \n",
            "=================================================================\n",
            "Total params: 3,669,249\n",
            "Trainable params: 3,669,249\n",
            "Non-trainable params: 0\n",
            "_________________________________________________________________\n"
          ]
        }
      ]
    },
    {
      "cell_type": "markdown",
      "source": [
        "## Compile and train model"
      ],
      "metadata": {
        "id": "GIClK-Cw3Y9o"
      }
    },
    {
      "cell_type": "code",
      "source": [
        "model.compile(\n",
        "    # set the loss as binary_crossentropy\n",
        "    loss='binary_crossentropy',\n",
        "    # set the optimizer as stochastic gradient descent\n",
        "    optimizer=keras.optimizers.SGD(lr=0.001),\n",
        "    # set the metric as accuracy\n",
        "    metrics=['accuracy']\n",
        ")\n",
        "\n",
        "# mock-train the model using the first ten observations of the train and test sets\n",
        "model.fit(\n",
        "    x_train[:10, :, :, :],\n",
        "    y_train[:10],\n",
        "    epochs=5,\n",
        "    verbose=1,\n",
        "    validation_data=(x_test[:10, :, :, :], y_test[:10])\n",
        ")"
      ],
      "metadata": {
        "colab": {
          "base_uri": "https://localhost:8080/"
        },
        "id": "wthBpFOV2nRo",
        "outputId": "1051518d-9a12-4e62-d9e1-c421dac525c4"
      },
      "execution_count": 8,
      "outputs": [
        {
          "output_type": "stream",
          "name": "stderr",
          "text": [
            "/usr/local/lib/python3.9/dist-packages/keras/optimizers/legacy/gradient_descent.py:114: UserWarning: The `lr` argument is deprecated, use `learning_rate` instead.\n",
            "  super().__init__(name, **kwargs)\n"
          ]
        },
        {
          "output_type": "stream",
          "name": "stdout",
          "text": [
            "Epoch 1/5\n",
            "1/1 [==============================] - 3s 3s/step - loss: 0.7317 - accuracy: 0.5000 - val_loss: 0.6767 - val_accuracy: 0.4000\n",
            "Epoch 2/5\n",
            "1/1 [==============================] - 0s 418ms/step - loss: 0.6314 - accuracy: 0.7000 - val_loss: 0.6736 - val_accuracy: 0.6000\n",
            "Epoch 3/5\n",
            "1/1 [==============================] - 1s 565ms/step - loss: 0.8150 - accuracy: 0.5000 - val_loss: 0.6737 - val_accuracy: 0.7000\n",
            "Epoch 4/5\n",
            "1/1 [==============================] - 0s 460ms/step - loss: 0.6560 - accuracy: 0.7000 - val_loss: 0.6754 - val_accuracy: 0.7000\n",
            "Epoch 5/5\n",
            "1/1 [==============================] - 0s 354ms/step - loss: 0.7330 - accuracy: 0.4000 - val_loss: 0.6760 - val_accuracy: 0.6000\n"
          ]
        },
        {
          "output_type": "execute_result",
          "data": {
            "text/plain": [
              "<keras.callbacks.History at 0x7f7c95ae4d00>"
            ]
          },
          "metadata": {},
          "execution_count": 8
        }
      ]
    },
    {
      "cell_type": "markdown",
      "source": [
        "## Load pre-trained model and score"
      ],
      "metadata": {
        "id": "EsnA7IOX3pzr"
      }
    },
    {
      "cell_type": "code",
      "source": [
        "# load pre-trained model\n",
        "pretrained_cnn = keras.models.load_model('pretrained_model.h5')\n",
        "\n",
        "# evaluate model on test set\n",
        "score = pretrained_cnn.evaluate(x_test, y_test, verbose=0)\n",
        "print('Test loss:', score[0])\n",
        "print('Test accuracy:', score[1])\n",
        "\n",
        "print(\"\")\n",
        "\n",
        "# evaluate model on holdout set\n",
        "eval_score = pretrained_cnn.evaluate(x_eval, y_eval)\n",
        "# print loss score\n",
        "print('Eval loss:', eval_score[0])\n",
        "# print accuracy score\n",
        "print('Eval accuracy:', eval_score[1])"
      ],
      "metadata": {
        "colab": {
          "base_uri": "https://localhost:8080/"
        },
        "id": "Tsl1x_aC2nTW",
        "outputId": "0ef98414-1434-4527-fb70-282ccaf64ba3"
      },
      "execution_count": 10,
      "outputs": [
        {
          "output_type": "stream",
          "name": "stderr",
          "text": [
            "WARNING:tensorflow:Error in loading the saved optimizer state. As a result, your model is starting with a freshly initialized optimizer.\n"
          ]
        },
        {
          "output_type": "stream",
          "name": "stdout",
          "text": [
            "Test loss: 0.6719561815261841\n",
            "Test accuracy: 0.6188679337501526\n",
            "\n",
            "11/11 [==============================] - 2s 189ms/step - loss: 0.6702 - accuracy: 0.6375\n",
            "Eval loss: 0.6701620221138\n",
            "Eval accuracy: 0.6374622583389282\n"
          ]
        }
      ]
    },
    {
      "cell_type": "markdown",
      "source": [
        "## Visualize model training history\n"
      ],
      "metadata": {
        "id": "onD-eoBa3uX9"
      }
    },
    {
      "cell_type": "code",
      "source": [
        "# load history\n",
        "with open('model_history.pkl', 'rb') as f:\n",
        "    pretrained_cnn_history = pickle.load(f)\n",
        "\n",
        "# print keys for pretrained_cnn_history dict\n",
        "print(pretrained_cnn_history.keys())\n",
        "\n",
        "fig = plt.figure(1)\n",
        "plt.subplot(211)\n",
        "# plot the validation accuracy\n",
        "plt.plot(pretrained_cnn_history['val_acc'])\n",
        "plt.title('Validation accuracy and loss')\n",
        "plt.ylabel('Accuracy')\n",
        "plt.subplot(212)\n",
        "# plot the validation loss\n",
        "plt.plot(pretrained_cnn_history['val_loss'], 'r')\n",
        "plt.xlabel('Epoch')\n",
        "plt.ylabel('Loss value');"
      ],
      "metadata": {
        "colab": {
          "base_uri": "https://localhost:8080/",
          "height": 489
        },
        "id": "aR_8lQ-V2nUh",
        "outputId": "d2a48915-d871-429b-ecad-2b4aaac41474"
      },
      "execution_count": 11,
      "outputs": [
        {
          "output_type": "stream",
          "name": "stdout",
          "text": [
            "dict_keys(['val_loss', 'val_acc', 'loss', 'acc'])\n"
          ]
        },
        {
          "output_type": "display_data",
          "data": {
            "text/plain": [
              "<Figure size 640x480 with 2 Axes>"
            ],
            "image/png": "[encoded data removed]"
          },
          "metadata": {}
        }
      ]
    },
    {
      "cell_type": "markdown",
      "source": [
        "## Generate predictions"
      ],
      "metadata": {
        "id": "F7w7kjCs3zU6"
      }
    },
    {
      "cell_type": "code",
      "source": [
        "# predicted probabilities for x_eval\n",
        "y_proba = pretrained_cnn.predict(x_eval)\n",
        "\n",
        "print(\"First five probabilities:\")\n",
        "print(y_proba[:5])\n",
        "print(\"\")\n",
        "\n",
        "# predicted classes for x_eval\n",
        "y_pred = np.round(y_proba).astype('int')\n",
        "\n",
        "print(\"First five class predictions:\")\n",
        "print(y_pred[:5])\n",
        "print(\"\")"
      ],
      "metadata": {
        "colab": {
          "base_uri": "https://localhost:8080/"
        },
        "id": "EAr2EWqL2na-",
        "outputId": "35ecf885-1a8c-4a2c-f39e-f24f270366db"
      },
      "execution_count": 12,
      "outputs": [
        {
          "output_type": "stream",
          "name": "stdout",
          "text": [
            "11/11 [==============================] - 2s 151ms/step\n",
            "First five probabilities:\n",
            "[[0.51043946]\n",
            " [0.55088645]\n",
            " [0.63334477]\n",
            " [0.1811149 ]\n",
            " [0.3395768 ]]\n",
            "\n",
            "First five class predictions:\n",
            "[[1]\n",
            " [1]\n",
            " [1]\n",
            " [0]\n",
            " [0]]\n",
            "\n"
          ]
        }
      ]
    },
    {
      "cell_type": "code",
      "source": [],
      "metadata": {
        "id": "EIY7N1Xt2nhC"
      },
      "execution_count": 12,
      "outputs": []
    },
    {
      "cell_type": "code",
      "source": [],
      "metadata": {
        "id": "kQu1im0A2nkr"
      },
      "execution_count": 12,
      "outputs": []
    },
    {
      "cell_type": "code",
      "source": [],
      "metadata": {
        "id": "lQ_3jA262nm8"
      },
      "execution_count": null,
      "outputs": []
    },
    {
      "cell_type": "code",
      "source": [],
      "metadata": {
        "id": "wBIIQv3v2nuF"
      },
      "execution_count": null,
      "outputs": []
    },
    {
      "cell_type": "code",
      "source": [],
      "metadata": {
        "id": "v3EmTCNf2nvg"
      },
      "execution_count": null,
      "outputs": []
    },
    {
      "cell_type": "code",
      "source": [],
      "metadata": {
        "id": "AaVHzdBP2n0D"
      },
      "execution_count": null,
      "outputs": []
    },
    {
      "cell_type": "code",
      "source": [],
      "metadata": {
        "id": "mowX8sFC2n17"
      },
      "execution_count": null,
      "outputs": []
    },
    {
      "cell_type": "code",
      "source": [],
      "metadata": {
        "id": "EKbFsrCq2n6G"
      },
      "execution_count": null,
      "outputs": []
    },
    {
      "cell_type": "code",
      "source": [],
      "metadata": {
        "id": "DvhssB6y2n7j"
      },
      "execution_count": null,
      "outputs": []
    },
    {
      "cell_type": "code",
      "source": [],
      "metadata": {
        "id": "PHaTDKla2n_P"
      },
      "execution_count": null,
      "outputs": []
    },
    {
      "cell_type": "code",
      "source": [],
      "metadata": {
        "id": "x06PiujN2oFs"
      },
      "execution_count": null,
      "outputs": []
    },
    {
      "cell_type": "code",
      "source": [],
      "metadata": {
        "id": "1VM0fNKK2oLK"
      },
      "execution_count": null,
      "outputs": []
    },
    {
      "cell_type": "code",
      "source": [],
      "metadata": {
        "id": "y7bSIYpb2oPQ"
      },
      "execution_count": null,
      "outputs": []
    },
    {
      "cell_type": "code",
      "source": [],
      "metadata": {
        "id": "UjQ9BZ0J2oSf"
      },
      "execution_count": null,
      "outputs": []
    },
    {
      "cell_type": "code",
      "source": [],
      "metadata": {
        "id": "NSn-AdIT2oWN"
      },
      "execution_count": null,
      "outputs": []
    },
    {
      "cell_type": "code",
      "source": [],
      "metadata": {
        "id": "4QbhA9Qn2odc"
      },
      "execution_count": null,
      "outputs": []
    },
    {
      "cell_type": "code",
      "source": [],
      "metadata": {
        "id": "ASFQ8NEx2oh0"
      },
      "execution_count": null,
      "outputs": []
    },
    {
      "cell_type": "code",
      "source": [],
      "metadata": {
        "id": "Ked6XbVo2olA"
      },
      "execution_count": null,
      "outputs": []
    },
    {
      "cell_type": "code",
      "source": [],
      "metadata": {
        "id": "NQr9gAEY2omW"
      },
      "execution_count": null,
      "outputs": []
    },
    {
      "cell_type": "code",
      "source": [],
      "metadata": {
        "id": "G7-OTPum2oo2"
      },
      "execution_count": null,
      "outputs": []
    }
  ]
}